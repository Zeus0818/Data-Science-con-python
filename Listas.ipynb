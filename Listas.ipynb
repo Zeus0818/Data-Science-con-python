{
  "nbformat": 4,
  "nbformat_minor": 0,
  "metadata": {
    "colab": {
      "provenance": [],
      "authorship_tag": "ABX9TyMVSYJqIbN65U7tRYctT5jo",
      "include_colab_link": true
    },
    "kernelspec": {
      "name": "python3",
      "display_name": "Python 3"
    },
    "language_info": {
      "name": "python"
    }
  },
  "cells": [
    {
      "cell_type": "markdown",
      "metadata": {
        "id": "view-in-github",
        "colab_type": "text"
      },
      "source": [
        "<a href=\"https://colab.research.google.com/github/Zeus0818/Listas-python/blob/main/Listas.ipynb\" target=\"_parent\"><img src=\"https://colab.research.google.com/assets/colab-badge.svg\" alt=\"Open In Colab\"/></a>"
      ]
    },
    {
      "cell_type": "markdown",
      "source": [
        "**Listas**"
      ],
      "metadata": {
        "id": "wFIOmrXI6A-5"
      }
    },
    {
      "cell_type": "code",
      "execution_count": null,
      "metadata": {
        "id": "vsxUMGJD2wYs"
      },
      "outputs": [],
      "source": [
        "frutas = [\"platano\" , \"manzana\" , \"pera\" , \"naranja\" , \"piña\"]"
      ]
    },
    {
      "cell_type": "code",
      "source": [
        "type(frutas)"
      ],
      "metadata": {
        "id": "Z4onXJGr3h_l",
        "colab": {
          "base_uri": "https://localhost:8080/"
        },
        "outputId": "030bda10-c55e-4ff2-e945-868498def589"
      },
      "execution_count": null,
      "outputs": [
        {
          "output_type": "execute_result",
          "data": {
            "text/plain": [
              "list"
            ]
          },
          "metadata": {},
          "execution_count": 8
        }
      ]
    },
    {
      "cell_type": "code",
      "source": [
        "numeros = [12 ,25 , 46]\n",
        "type(numeros)"
      ],
      "metadata": {
        "id": "vSsd4r8L3lSp",
        "colab": {
          "base_uri": "https://localhost:8080/"
        },
        "outputId": "139fb7c2-e313-43db-d550-e1c3eacbdb2c"
      },
      "execution_count": null,
      "outputs": [
        {
          "output_type": "execute_result",
          "data": {
            "text/plain": [
              "list"
            ]
          },
          "metadata": {},
          "execution_count": 10
        }
      ]
    },
    {
      "cell_type": "code",
      "source": [
        "misListas = [[10 ,20 ,30] , ['a', 'b' ,'c'] , ['Josseline' , 'Geraldine' , 'Fabrizio'] ]\n",
        "type(misListas)"
      ],
      "metadata": {
        "id": "Tu9fHCT331eA",
        "colab": {
          "base_uri": "https://localhost:8080/"
        },
        "outputId": "bc3a0429-22e9-452b-fb43-05ad51358f1d"
      },
      "execution_count": null,
      "outputs": [
        {
          "output_type": "execute_result",
          "data": {
            "text/plain": [
              "list"
            ]
          },
          "metadata": {},
          "execution_count": 13
        }
      ]
    },
    {
      "cell_type": "code",
      "source": [
        "a = [\"Madrid\" , 2 , 6.3 ]\n",
        "print(a)"
      ],
      "metadata": {
        "id": "aiy-klSH6l15",
        "colab": {
          "base_uri": "https://localhost:8080/"
        },
        "outputId": "85f48def-0b32-49ac-c83c-1b599ef471a5"
      },
      "execution_count": null,
      "outputs": [
        {
          "output_type": "stream",
          "name": "stdout",
          "text": [
            "['Madrid', 2, 6.3]\n"
          ]
        }
      ]
    },
    {
      "cell_type": "markdown",
      "source": [
        "TUPLAS\n"
      ],
      "metadata": {
        "id": "m64ujv5WfuCI"
      }
    },
    {
      "cell_type": "code",
      "source": [
        "t = 1, 2"
      ],
      "metadata": {
        "id": "jwYkTwsafxen"
      },
      "execution_count": null,
      "outputs": []
    },
    {
      "cell_type": "code",
      "source": [
        "type(t)"
      ],
      "metadata": {
        "colab": {
          "base_uri": "https://localhost:8080/"
        },
        "id": "jl7FEAEsf4Jf",
        "outputId": "a0c2204c-d9aa-4f91-e852-ab51c50bee11"
      },
      "execution_count": null,
      "outputs": [
        {
          "output_type": "execute_result",
          "data": {
            "text/plain": [
              "tuple"
            ]
          },
          "metadata": {},
          "execution_count": 3
        }
      ]
    },
    {
      "cell_type": "code",
      "source": [
        "tt = (1,2)\n",
        "type(tt)"
      ],
      "metadata": {
        "colab": {
          "base_uri": "https://localhost:8080/"
        },
        "id": "vTOFC4Wjf6l7",
        "outputId": "93404b51-9e32-4a8d-f116-d8e91ecae8b1"
      },
      "execution_count": null,
      "outputs": [
        {
          "output_type": "execute_result",
          "data": {
            "text/plain": [
              "tuple"
            ]
          },
          "metadata": {},
          "execution_count": 4
        }
      ]
    },
    {
      "cell_type": "code",
      "source": [
        "tm = (\"Jesus\" , \"Zamudio\" ,24)\n",
        "type(tm)"
      ],
      "metadata": {
        "colab": {
          "base_uri": "https://localhost:8080/"
        },
        "id": "j8SR5WOagHNz",
        "outputId": "a421990f-6c6b-4aa5-fbbe-e9eb60e66ad7"
      },
      "execution_count": null,
      "outputs": [
        {
          "output_type": "execute_result",
          "data": {
            "text/plain": [
              "tuple"
            ]
          },
          "metadata": {},
          "execution_count": 5
        }
      ]
    },
    {
      "cell_type": "code",
      "source": [
        "mi_tupla = (1 , 2 , 3 , 2 , 2, 4)\n",
        "elemento = mi_tupla.count(2)\n",
        "print(elemento)"
      ],
      "metadata": {
        "colab": {
          "base_uri": "https://localhost:8080/"
        },
        "id": "QTZOgELkglLc",
        "outputId": "6ac11e2d-cef8-492b-ced1-29230970a218"
      },
      "execution_count": null,
      "outputs": [
        {
          "output_type": "stream",
          "name": "stdout",
          "text": [
            "3\n"
          ]
        }
      ]
    },
    {
      "cell_type": "code",
      "source": [
        "sub_tupla = mi_tupla[1:3]\n",
        "print(sub_tupla)"
      ],
      "metadata": {
        "colab": {
          "base_uri": "https://localhost:8080/"
        },
        "id": "YblS6UWcjUhP",
        "outputId": "ad6b2adb-6484-4da0-a00d-fa93aa6b9942"
      },
      "execution_count": null,
      "outputs": [
        {
          "output_type": "stream",
          "name": "stdout",
          "text": [
            "(2, 3)\n"
          ]
        }
      ]
    },
    {
      "cell_type": "code",
      "source": [
        "dir(mi_tupla) #Todo lo que se puede hacer"
      ],
      "metadata": {
        "colab": {
          "base_uri": "https://localhost:8080/"
        },
        "id": "_zJGEuRCjiu3",
        "outputId": "fe2480e7-0bcd-40b3-b459-7c64982bf892"
      },
      "execution_count": null,
      "outputs": [
        {
          "output_type": "execute_result",
          "data": {
            "text/plain": [
              "['__add__',\n",
              " '__class__',\n",
              " '__class_getitem__',\n",
              " '__contains__',\n",
              " '__delattr__',\n",
              " '__dir__',\n",
              " '__doc__',\n",
              " '__eq__',\n",
              " '__format__',\n",
              " '__ge__',\n",
              " '__getattribute__',\n",
              " '__getitem__',\n",
              " '__getnewargs__',\n",
              " '__getstate__',\n",
              " '__gt__',\n",
              " '__hash__',\n",
              " '__init__',\n",
              " '__init_subclass__',\n",
              " '__iter__',\n",
              " '__le__',\n",
              " '__len__',\n",
              " '__lt__',\n",
              " '__mul__',\n",
              " '__ne__',\n",
              " '__new__',\n",
              " '__reduce__',\n",
              " '__reduce_ex__',\n",
              " '__repr__',\n",
              " '__rmul__',\n",
              " '__setattr__',\n",
              " '__sizeof__',\n",
              " '__str__',\n",
              " '__subclasshook__',\n",
              " 'count',\n",
              " 'index']"
            ]
          },
          "metadata": {},
          "execution_count": 17
        }
      ]
    },
    {
      "cell_type": "code",
      "source": [
        "nacimiento = (1999 , 12 , 20)"
      ],
      "metadata": {
        "id": "Yjw2CXBAjxlQ"
      },
      "execution_count": null,
      "outputs": []
    },
    {
      "cell_type": "code",
      "source": [
        "nombre = (\"Geraldine\" , \"Yovera\")\n",
        "cliente1 = (nacimiento , nombre)\n",
        "print(cliente1)"
      ],
      "metadata": {
        "colab": {
          "base_uri": "https://localhost:8080/"
        },
        "id": "M0tEZwKwd1B_",
        "outputId": "6c0b3d8a-2f17-4c60-8262-c3659a35bdab"
      },
      "execution_count": null,
      "outputs": [
        {
          "output_type": "stream",
          "name": "stdout",
          "text": [
            "((1999, 12, 20), ('Geraldine', 'Yovera'))\n"
          ]
        }
      ]
    },
    {
      "cell_type": "code",
      "source": [
        "type(cliente1)"
      ],
      "metadata": {
        "colab": {
          "base_uri": "https://localhost:8080/"
        },
        "id": "LfB36rR5eJTe",
        "outputId": "d6d0c88e-f666-4fd3-a3b8-9489c28b1b36"
      },
      "execution_count": null,
      "outputs": [
        {
          "output_type": "execute_result",
          "data": {
            "text/plain": [
              "tuple"
            ]
          },
          "metadata": {},
          "execution_count": 3
        }
      ]
    },
    {
      "cell_type": "code",
      "source": [
        "cliente1[0][1]"
      ],
      "metadata": {
        "colab": {
          "base_uri": "https://localhost:8080/"
        },
        "id": "Q_e9fqE5elJQ",
        "outputId": "0ed2eab0-70c3-4528-8789-33c96f4a752a"
      },
      "execution_count": null,
      "outputs": [
        {
          "output_type": "execute_result",
          "data": {
            "text/plain": [
              "12"
            ]
          },
          "metadata": {},
          "execution_count": 4
        }
      ]
    },
    {
      "cell_type": "code",
      "source": [
        "auto = (\"Ford\" , \"fiesta\" ,\"Rojo\" , 2021 ,5 , 1.6)\n",
        "auto"
      ],
      "metadata": {
        "colab": {
          "base_uri": "https://localhost:8080/"
        },
        "id": "FC3pBxhGe76C",
        "outputId": "54c57742-f045-4ae3-a0fb-6d8282a668d1"
      },
      "execution_count": null,
      "outputs": [
        {
          "output_type": "execute_result",
          "data": {
            "text/plain": [
              "('Ford', 'fiesta', 'Rojo', 2021, 5, 1.6)"
            ]
          },
          "metadata": {},
          "execution_count": 5
        }
      ]
    },
    {
      "cell_type": "code",
      "source": [
        "(Marca, Tipo , Color , Modelo , Puertas , Motor)= auto\n",
        "auto"
      ],
      "metadata": {
        "colab": {
          "base_uri": "https://localhost:8080/"
        },
        "id": "Vbue0uWAfs-t",
        "outputId": "1393f27b-dd10-4d81-c44e-7e3462456cac"
      },
      "execution_count": null,
      "outputs": [
        {
          "output_type": "execute_result",
          "data": {
            "text/plain": [
              "('Ford', 'fiesta', 'Rojo', 2021, 5, 1.6)"
            ]
          },
          "metadata": {},
          "execution_count": 7
        }
      ]
    },
    {
      "cell_type": "code",
      "source": [
        "Tipo, Puertas"
      ],
      "metadata": {
        "colab": {
          "base_uri": "https://localhost:8080/"
        },
        "id": "qZdpF0Ibg_8l",
        "outputId": "a3f6e112-9d12-4ecb-e846-9d141b232873"
      },
      "execution_count": null,
      "outputs": [
        {
          "output_type": "execute_result",
          "data": {
            "text/plain": [
              "('fiesta', 5)"
            ]
          },
          "metadata": {},
          "execution_count": 8
        }
      ]
    },
    {
      "cell_type": "markdown",
      "source": [
        "DICCIONARIOS\n"
      ],
      "metadata": {
        "id": "UdcINTeN4GgW"
      }
    },
    {
      "cell_type": "code",
      "source": [
        "dic = {}\n",
        "type(dic)"
      ],
      "metadata": {
        "id": "DhPMLO7qhx7k",
        "colab": {
          "base_uri": "https://localhost:8080/"
        },
        "outputId": "4701abeb-a8b1-44cc-cfe6-c7528dda088b"
      },
      "execution_count": null,
      "outputs": [
        {
          "output_type": "execute_result",
          "data": {
            "text/plain": [
              "dict"
            ]
          },
          "metadata": {},
          "execution_count": 1
        }
      ]
    },
    {
      "cell_type": "code",
      "source": [
        "edades = {\"Pablo\" : 26 , \"Vanessa\": 32}\n",
        "edades"
      ],
      "metadata": {
        "colab": {
          "base_uri": "https://localhost:8080/"
        },
        "id": "DzCk5RhW4op8",
        "outputId": "d2ae1629-48d3-431c-91b3-116e23db6f53"
      },
      "execution_count": null,
      "outputs": [
        {
          "output_type": "execute_result",
          "data": {
            "text/plain": [
              "{'Pablo': 26, 'Vanessa': 32}"
            ]
          },
          "metadata": {},
          "execution_count": 2
        }
      ]
    },
    {
      "cell_type": "code",
      "source": [
        "len(edades)"
      ],
      "metadata": {
        "id": "UT8-yekk4_1Z",
        "outputId": "6bc6146b-6780-4180-901c-08e7bfd4ad74",
        "colab": {
          "base_uri": "https://localhost:8080/"
        }
      },
      "execution_count": null,
      "outputs": [
        {
          "output_type": "execute_result",
          "data": {
            "text/plain": [
              "2"
            ]
          },
          "metadata": {},
          "execution_count": 3
        }
      ]
    },
    {
      "cell_type": "code",
      "source": [
        "edades[\"Pablo\"]"
      ],
      "metadata": {
        "id": "I8SkW62D5DxF",
        "colab": {
          "base_uri": "https://localhost:8080/"
        },
        "outputId": "ad1e0589-0bb2-48a5-94a2-b68a05218b82"
      },
      "execution_count": 4,
      "outputs": [
        {
          "output_type": "execute_result",
          "data": {
            "text/plain": [
              "26"
            ]
          },
          "metadata": {},
          "execution_count": 4
        }
      ]
    },
    {
      "cell_type": "code",
      "source": [
        "edades[\"Vanessa\"]"
      ],
      "metadata": {
        "colab": {
          "base_uri": "https://localhost:8080/"
        },
        "id": "LRby26n_5dDz",
        "outputId": "902f2117-e702-4e35-b537-d88448cc3cad"
      },
      "execution_count": 5,
      "outputs": [
        {
          "output_type": "execute_result",
          "data": {
            "text/plain": [
              "32"
            ]
          },
          "metadata": {},
          "execution_count": 5
        }
      ]
    },
    {
      "cell_type": "code",
      "source": [
        "edades['Vanessa'] = 28"
      ],
      "metadata": {
        "id": "5CpkCINV5kq3"
      },
      "execution_count": 6,
      "outputs": []
    },
    {
      "cell_type": "code",
      "source": [
        "edades"
      ],
      "metadata": {
        "colab": {
          "base_uri": "https://localhost:8080/"
        },
        "id": "8oqzuaIz5qSl",
        "outputId": "89a5e01f-04be-4229-a444-8ac9a62e465b"
      },
      "execution_count": 7,
      "outputs": [
        {
          "output_type": "execute_result",
          "data": {
            "text/plain": [
              "{'Pablo': 26, 'Vanessa': 28}"
            ]
          },
          "metadata": {},
          "execution_count": 7
        }
      ]
    },
    {
      "cell_type": "code",
      "source": [
        "edades['Liam'] = 19\n",
        "edades"
      ],
      "metadata": {
        "colab": {
          "base_uri": "https://localhost:8080/"
        },
        "id": "5kTVJOab5uIp",
        "outputId": "d22dbc61-da4e-4290-8e30-e43941d6b646"
      },
      "execution_count": 8,
      "outputs": [
        {
          "output_type": "execute_result",
          "data": {
            "text/plain": [
              "{'Pablo': 26, 'Vanessa': 28, 'Liam': 19}"
            ]
          },
          "metadata": {},
          "execution_count": 8
        }
      ]
    },
    {
      "cell_type": "code",
      "source": [
        "edades.keys()"
      ],
      "metadata": {
        "colab": {
          "base_uri": "https://localhost:8080/"
        },
        "id": "h5lko7Kt6bM5",
        "outputId": "9c4fd4e9-3dbf-4858-b903-e9b7bf6f4e6b"
      },
      "execution_count": 9,
      "outputs": [
        {
          "output_type": "execute_result",
          "data": {
            "text/plain": [
              "dict_keys(['Pablo', 'Vanessa', 'Liam'])"
            ]
          },
          "metadata": {},
          "execution_count": 9
        }
      ]
    },
    {
      "cell_type": "code",
      "source": [
        "edades.values()"
      ],
      "metadata": {
        "colab": {
          "base_uri": "https://localhost:8080/"
        },
        "id": "83lpNPiX6gzj",
        "outputId": "8ff882f1-39bd-4569-be2f-3c696d9b12ba"
      },
      "execution_count": 10,
      "outputs": [
        {
          "output_type": "execute_result",
          "data": {
            "text/plain": [
              "dict_values([26, 28, 19])"
            ]
          },
          "metadata": {},
          "execution_count": 10
        }
      ]
    },
    {
      "cell_type": "code",
      "source": [
        "edades.items()"
      ],
      "metadata": {
        "colab": {
          "base_uri": "https://localhost:8080/"
        },
        "id": "6QxUC2w86juy",
        "outputId": "5a3e0ac8-f554-4bfc-8971-622a95371809"
      },
      "execution_count": 11,
      "outputs": [
        {
          "output_type": "execute_result",
          "data": {
            "text/plain": [
              "dict_items([('Pablo', 26), ('Vanessa', 28), ('Liam', 19)])"
            ]
          },
          "metadata": {},
          "execution_count": 11
        }
      ]
    },
    {
      "cell_type": "code",
      "source": [
        "edades.get('Pablo')"
      ],
      "metadata": {
        "colab": {
          "base_uri": "https://localhost:8080/"
        },
        "id": "DCOaAJaw6naj",
        "outputId": "2c87b33a-6b0a-4147-9603-32d9ba62945f"
      },
      "execution_count": 12,
      "outputs": [
        {
          "output_type": "execute_result",
          "data": {
            "text/plain": [
              "26"
            ]
          },
          "metadata": {},
          "execution_count": 12
        }
      ]
    },
    {
      "cell_type": "code",
      "source": [
        "edades.update({'Pablo': 27})\n",
        "edades"
      ],
      "metadata": {
        "colab": {
          "base_uri": "https://localhost:8080/"
        },
        "id": "t6rWdMhr6wKF",
        "outputId": "7c24be86-6ac2-4f4a-c489-64135ecd79d5"
      },
      "execution_count": 13,
      "outputs": [
        {
          "output_type": "execute_result",
          "data": {
            "text/plain": [
              "{'Pablo': 27, 'Vanessa': 28, 'Liam': 19}"
            ]
          },
          "metadata": {},
          "execution_count": 13
        }
      ]
    },
    {
      "cell_type": "code",
      "source": [],
      "metadata": {
        "id": "fXigPDmV68Jp"
      },
      "execution_count": null,
      "outputs": []
    }
  ]
}