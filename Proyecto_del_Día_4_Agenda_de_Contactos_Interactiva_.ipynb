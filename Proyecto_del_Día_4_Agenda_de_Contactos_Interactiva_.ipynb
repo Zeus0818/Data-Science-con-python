{
  "cells": [
    {
      "cell_type": "markdown",
      "metadata": {
        "id": "view-in-github",
        "colab_type": "text"
      },
      "source": [
        "<a href=\"https://colab.research.google.com/github/Zeus0818/Data-Science-con-python/blob/main/Proyecto_del_D%C3%ADa_4_Agenda_de_Contactos_Interactiva_.ipynb\" target=\"_parent\"><img src=\"https://colab.research.google.com/assets/colab-badge.svg\" alt=\"Open In Colab\"/></a>"
      ]
    },
    {
      "cell_type": "markdown",
      "id": "0d153c56",
      "metadata": {
        "id": "0d153c56"
      },
      "source": [
        "# Proyecto: Agenda de Contactos Interactiva\n",
        "\n",
        "### Objetivo\n",
        "Crear una agenda de contactos utilizando Python, aplicando los conceptos aprendidos sobre listas, tuplas, diccionarios, booleanos y estructuras de control.\n",
        "\n",
        "\n",
        "### Consigna\n",
        "Cada vez que inicies tu agenda, va a comenzar preguntándole al usuario cuál de estas opciones prefiere:\n",
        "1. **Añadir un contacto**: Crear un nuevo registro en la agenda (nombre, telefono).\n",
        "2. **Buscar un contacto**: Buscar un contacto por nombre y mostrar su teléfono, o un mensaje de error si no lo encuentra.\n",
        "3. **Editar un contacto**: Modificar teléfono de un contacto existente.\n",
        "4. **Eliminar un contacto**: Eliminar un contacto de la agenda (investiga los métodos disponibles para lograrlo)\n",
        "5. **Mostrar todos los contactos**: Mostrar todos los contactos guardados en la agenda.\n",
        "\n",
        "El usuario elegirá una de esas opciones, y el programa ejecutará el código correspondiente para procesar su pedido y mostrarle el resultado.\n",
        "\n",
        "### Notas y Ayudas\n",
        "- Debido a que vas a almacenar pares de datos (nombre y teléfono) ¿cuál crees que sería la mejor estructura de datos para guardarlos: **listas**, **tuplas** o **diccionarios**?\n",
        "- Algunas de las funcionalidades de tu agenda, pueden requerir que investigues algunos métodos que no hemos visto en las lecciones, pero que podrás descubrir con *type*, *dir* y *help*.\n",
        "<br>  \n",
        "<br>\n",
        "<br>"
      ]
    },
    {
      "cell_type": "markdown",
      "id": "c6c4ab9d",
      "metadata": {
        "id": "c6c4ab9d"
      },
      "source": [
        "## Resolución"
      ]
    },
    {
      "cell_type": "markdown",
      "id": "cb507a52",
      "metadata": {
        "id": "cb507a52"
      },
      "source": [
        "Crea una agenda vacía"
      ]
    },
    {
      "cell_type": "code",
      "execution_count": 1,
      "id": "e9c026bd",
      "metadata": {
        "id": "e9c026bd"
      },
      "outputs": [],
      "source": [
        "agenda = {}"
      ]
    },
    {
      "cell_type": "markdown",
      "id": "be7b6b93",
      "metadata": {
        "id": "be7b6b93"
      },
      "source": [
        "En la siguiente celda, incluye el código para ejecutar las siguientes instrucciones:\n",
        "- Mostrar en pantalla las opciones\n",
        "- Pedirle al usuario que elija las opciones\n",
        "- Crear una estructura de control (*if*, *elif* y *else*) que ejecute diferentes bloques de código según las opciones elegidas."
      ]
    },
    {
      "cell_type": "code",
      "execution_count": 4,
      "id": "853549d5",
      "metadata": {
        "colab": {
          "base_uri": "https://localhost:8080/"
        },
        "id": "853549d5",
        "outputId": "1421d59e-1130-44d6-bad0-5eba0c6f4c26"
      },
      "outputs": [
        {
          "output_type": "stream",
          "name": "stdout",
          "text": [
            "Agenda de Contactos\n",
            "-------------------\n",
            "1. Añadir contacto\n",
            "2. Buscar contacto\n",
            "3. Editar contacto\n",
            "4. Eliminar contacto\n",
            "5. Mostrar contactos\n",
            "Selecciona una opción:4\n",
            "Ingrese el nombre del contacto: Alexa Bliss\n",
            "El contacto fue eliminado\n"
          ]
        }
      ],
      "source": [
        "print(\"Agenda de Contactos\")\n",
        "print(\"-------------------\")\n",
        "print(\"1. Añadir contacto\")\n",
        "print(\"2. Buscar contacto\")\n",
        "print(\"3. Editar contacto\")\n",
        "print(\"4. Eliminar contacto\")\n",
        "print(\"5. Mostrar contactos\")\n",
        "\n",
        "eleccion = input(\"Selecciona una opción:\")\n",
        "\n",
        "if eleccion == '1':\n",
        "    nombre = input(\"Ingrese el nombre del contacto: \")\n",
        "    telefono = input(\"Ingrese el telefono del contacto: \")\n",
        "    agenda[nombre] = telefono\n",
        "elif eleccion == '2':\n",
        "    nombre = input(\"Ingrese el nombre del contacto: \")\n",
        "    if nombre in agenda:\n",
        "        print(f\"El telefono de {nombre} es {agenda[nombre]}\")\n",
        "    else:\n",
        "        print(\"Contacto no encontrado\")\n",
        "elif eleccion == '3':\n",
        "    nombre = input(\"Ingrese el nombre del contacto: \")\n",
        "    if nombre in agenda:\n",
        "        nuevo_telefono = input(f\"Ingrese el nuevo numero de {nombre}: \")\n",
        "        agenda[nombre] = nuevo_telefono\n",
        "        print(f\"El nuevo telefono de {nombre} es {agenda[nombre]}\")\n",
        "    else:\n",
        "        print(\"Contacto no encontrado\")\n",
        "elif eleccion == '4':\n",
        "    nombre = input(\"Ingrese el nombre del contacto: \")\n",
        "    if nombre in agenda:\n",
        "        agenda.pop(nombre)\n",
        "        print(\"El contacto fue eliminado\")\n",
        "    else:\n",
        "        print(\"Contacto no encontrado\")\n",
        "elif eleccion == '5':\n",
        "    print(agenda)\n",
        "else:\n",
        "    print(\"esa elección no es válida\")"
      ]
    },
    {
      "cell_type": "code",
      "execution_count": null,
      "id": "8f848397",
      "metadata": {
        "id": "8f848397"
      },
      "outputs": [],
      "source": []
    }
  ],
  "metadata": {
    "kernelspec": {
      "display_name": "Python 3 (ipykernel)",
      "language": "python",
      "name": "python3"
    },
    "language_info": {
      "codemirror_mode": {
        "name": "ipython",
        "version": 3
      },
      "file_extension": ".py",
      "mimetype": "text/x-python",
      "name": "python",
      "nbconvert_exporter": "python",
      "pygments_lexer": "ipython3",
      "version": "3.11.5"
    },
    "colab": {
      "provenance": [],
      "include_colab_link": true
    }
  },
  "nbformat": 4,
  "nbformat_minor": 5
}