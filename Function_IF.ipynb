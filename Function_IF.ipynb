{
  "nbformat": 4,
  "nbformat_minor": 0,
  "metadata": {
    "colab": {
      "provenance": [],
      "authorship_tag": "ABX9TyNN2kZzBGNa9lQm2AQqJveI",
      "include_colab_link": true
    },
    "kernelspec": {
      "name": "python3",
      "display_name": "Python 3"
    },
    "language_info": {
      "name": "python"
    }
  },
  "cells": [
    {
      "cell_type": "markdown",
      "metadata": {
        "id": "view-in-github",
        "colab_type": "text"
      },
      "source": [
        "<a href=\"https://colab.research.google.com/github/Zeus0818/Data-Science-con-python/blob/main/Function_IF.ipynb\" target=\"_parent\"><img src=\"https://colab.research.google.com/assets/colab-badge.svg\" alt=\"Open In Colab\"/></a>"
      ]
    },
    {
      "cell_type": "code",
      "execution_count": null,
      "metadata": {
        "colab": {
          "base_uri": "https://localhost:8080/"
        },
        "id": "ePuYIqE1eI-f",
        "outputId": "117215c9-1636-468c-f888-65331471d5d9"
      },
      "outputs": [
        {
          "output_type": "stream",
          "name": "stdout",
          "text": [
            "Hace calor\n"
          ]
        }
      ],
      "source": [
        "temperatura = 22\n",
        "\n",
        "if temperatura > 20:\n",
        "  print(\"Hace calor\")\n",
        "else:\n",
        "  print(\"Hace frio\")"
      ]
    },
    {
      "cell_type": "code",
      "source": [
        "temperatura= input(\"Ingrese la temperatura: \")\n",
        "temperatura = int(temperatura)\n",
        "\n",
        "if temperatura > 20:\n",
        "  print(\"Hace calor\")\n",
        "else:\n",
        "  print(\"Hace frio\")"
      ],
      "metadata": {
        "colab": {
          "base_uri": "https://localhost:8080/"
        },
        "id": "hwei_GhlnxC6",
        "outputId": "8dd0f5f6-d6eb-4140-ff02-162030608e03"
      },
      "execution_count": null,
      "outputs": [
        {
          "output_type": "stream",
          "name": "stdout",
          "text": [
            "Ingrese la temperatura: 15\n",
            "Hace frio\n"
          ]
        }
      ]
    },
    {
      "cell_type": "code",
      "source": [
        "temperatura= input(\"Ingrese la temperatura: \")\n",
        "temperatura = int(temperatura)\n",
        "\n",
        "if temperatura > 16 and temperatura < 20:\n",
        "  print(\"El clima es agradable\")"
      ],
      "metadata": {
        "colab": {
          "base_uri": "https://localhost:8080/"
        },
        "id": "zhprdwvmoE1E",
        "outputId": "c7329825-59d8-4956-ca2c-ea9662575dd4"
      },
      "execution_count": null,
      "outputs": [
        {
          "output_type": "stream",
          "name": "stdout",
          "text": [
            "Ingrese la temperatura: 19\n",
            "El clima es agradable\n"
          ]
        }
      ]
    },
    {
      "cell_type": "code",
      "source": [
        "amigos = [\"Jesus\" ,\"Ana\" , \"Camila\"]\n",
        "nombre = input(\"Ingrese el nombre: \")\n",
        "\n",
        "if nombre in amigos:\n",
        "  print(f\"{nombre}, si se encuentra en la lista\")\n",
        "else:\n",
        "  print(f\"{nombre} ,no esta en la lista\")"
      ],
      "metadata": {
        "colab": {
          "base_uri": "https://localhost:8080/"
        },
        "id": "I2Ge8HtMpfTd",
        "outputId": "7affced8-4906-4dfc-f3ea-5d2c3db58359"
      },
      "execution_count": null,
      "outputs": [
        {
          "output_type": "stream",
          "name": "stdout",
          "text": [
            "Ingrese el nombre: Alexa\n",
            "Alexa ,no esta en la lista\n"
          ]
        }
      ]
    },
    {
      "cell_type": "code",
      "source": [
        "temperatura = True\n",
        "\n",
        "if temperatura:\n",
        "  print(\"Hace calor\")"
      ],
      "metadata": {
        "colab": {
          "base_uri": "https://localhost:8080/"
        },
        "id": "0rRQhU3SrtzC",
        "outputId": "d3b9d9c3-398c-404e-f4cb-22030e4eac0f"
      },
      "execution_count": null,
      "outputs": [
        {
          "output_type": "stream",
          "name": "stdout",
          "text": [
            "Hace calor\n"
          ]
        }
      ]
    },
    {
      "cell_type": "code",
      "source": [
        "if True:\n",
        "  print(\"Hace calor\")"
      ],
      "metadata": {
        "colab": {
          "base_uri": "https://localhost:8080/"
        },
        "id": "VZ2LxMo8p_Bh",
        "outputId": "1a3bf2f3-fa45-4bcf-c129-6ab3f7673244"
      },
      "execution_count": null,
      "outputs": [
        {
          "output_type": "stream",
          "name": "stdout",
          "text": [
            "Hace calor\n"
          ]
        }
      ]
    },
    {
      "cell_type": "markdown",
      "source": [
        "**FUNCTION IF-ELSE **"
      ],
      "metadata": {
        "id": "E4LzV5TitRKt"
      }
    },
    {
      "cell_type": "code",
      "source": [
        "edad = int(input(\"Ingrese su edad: \"))\n",
        "\n",
        "if edad >= 18:\n",
        "  print(\"Es mayor de edad\")\n",
        "else:\n",
        "  print(\"Es menor de edad\")"
      ],
      "metadata": {
        "colab": {
          "base_uri": "https://localhost:8080/"
        },
        "id": "CpFfzZmtvQt2",
        "outputId": "df7616ed-41b8-4808-e650-be0bb82830b5"
      },
      "execution_count": 1,
      "outputs": [
        {
          "output_type": "stream",
          "name": "stdout",
          "text": [
            "Ingrese su edad: 24\n",
            "Es mayor de edad\n"
          ]
        }
      ]
    },
    {
      "cell_type": "code",
      "source": [
        "edad = int(input(\"Ingrese su edad: \"))\n",
        "\n",
        "if edad >= 18:\n",
        "  print(\"Adulto\")\n",
        "elif edad >= 13:\n",
        "  print(\"Adolescente\")\n",
        "else:\n",
        "  print(\"Niño\")"
      ],
      "metadata": {
        "colab": {
          "base_uri": "https://localhost:8080/"
        },
        "id": "W06l4SuswDQw",
        "outputId": "2cae9016-8cac-4830-ad51-58fb88211dd5"
      },
      "execution_count": 3,
      "outputs": [
        {
          "output_type": "stream",
          "name": "stdout",
          "text": [
            "Ingrese su edad: 17\n",
            "Adolescente\n"
          ]
        }
      ]
    },
    {
      "cell_type": "code",
      "source": [
        "x1 ,x2, x3 = int (input(\"Ingrese el valor de x1: \")), int (input(\"Ingrese el valor de x2: \")), int (input(\"Ingrese el valor de x3: \"))\n",
        "\n",
        "if x1 > x2 :\n",
        "  if x1 > x3 :\n",
        "    maximo = x1\n",
        "  else:\n",
        "    maximo = x3\n",
        "else:\n",
        "  if x2 > x3:\n",
        "    maximo = x2\n",
        "  else:\n",
        "    maximo = x3\n",
        "\n",
        "print(f\"El numero maximo es: {maximo}\")"
      ],
      "metadata": {
        "colab": {
          "base_uri": "https://localhost:8080/"
        },
        "id": "jkwDuTeswbX5",
        "outputId": "bd6df88f-4e9b-4345-eef4-93d055d8ef23"
      },
      "execution_count": 4,
      "outputs": [
        {
          "output_type": "stream",
          "name": "stdout",
          "text": [
            "Ingrese el valor de x1: 15\n",
            "Ingrese el valor de x2: 18\n",
            "Ingrese el valor de x3: 23\n",
            "El numero maximo es: 23\n"
          ]
        }
      ]
    }
  ]
}